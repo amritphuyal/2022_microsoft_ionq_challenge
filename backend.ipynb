{
  "cells": [
    {
      "cell_type": "code",
      "execution_count": 3,
      "metadata": {
        "jupyter": {
          "outputs_hidden": false,
          "source_hidden": false
        },
        "nteract": {
          "transient": {
            "deleting": false
          }
        }
      },
      "outputs": [
        {
          "ename": "ModuleNotFoundError",
          "evalue": "No module named 'azure.quantum'",
          "output_type": "error",
          "traceback": [
            "\u001b[0;31m---------------------------------------------------------------------------\u001b[0m",
            "\u001b[0;31mModuleNotFoundError\u001b[0m                       Traceback (most recent call last)",
            "\u001b[0;32m/var/folders/27/hyb62yfd5m56rtkgkgf698jm0000gn/T/ipykernel_18553/668202614.py\u001b[0m in \u001b[0;36m<module>\u001b[0;34m\u001b[0m\n\u001b[0;32m----> 1\u001b[0;31m \u001b[0;32mfrom\u001b[0m \u001b[0mazure\u001b[0m\u001b[0;34m.\u001b[0m\u001b[0mquantum\u001b[0m \u001b[0;32mimport\u001b[0m \u001b[0mWorkspace\u001b[0m\u001b[0;34m\u001b[0m\u001b[0;34m\u001b[0m\u001b[0m\n\u001b[0m\u001b[1;32m      2\u001b[0m \u001b[0;32mfrom\u001b[0m \u001b[0mqiskit\u001b[0m \u001b[0;32mimport\u001b[0m \u001b[0mQuantumCircuit\u001b[0m\u001b[0;34m,\u001b[0m \u001b[0mQuantumRegister\u001b[0m\u001b[0;34m,\u001b[0m \u001b[0mClassicalRegister\u001b[0m\u001b[0;34m,\u001b[0m \u001b[0mexecute\u001b[0m\u001b[0;34m\u001b[0m\u001b[0;34m\u001b[0m\u001b[0m\n\u001b[1;32m      3\u001b[0m \u001b[0;32mfrom\u001b[0m \u001b[0mqiskit\u001b[0m\u001b[0;34m.\u001b[0m\u001b[0mvisualization\u001b[0m \u001b[0;32mimport\u001b[0m \u001b[0mplot_histogram\u001b[0m\u001b[0;34m\u001b[0m\u001b[0;34m\u001b[0m\u001b[0m\n\u001b[1;32m      4\u001b[0m \u001b[0;32mfrom\u001b[0m \u001b[0mqiskit\u001b[0m\u001b[0;34m.\u001b[0m\u001b[0mtools\u001b[0m\u001b[0;34m.\u001b[0m\u001b[0mmonitor\u001b[0m \u001b[0;32mimport\u001b[0m \u001b[0mjob_monitor\u001b[0m\u001b[0;34m\u001b[0m\u001b[0;34m\u001b[0m\u001b[0m\n\u001b[1;32m      5\u001b[0m \u001b[0;32mfrom\u001b[0m \u001b[0mazure\u001b[0m\u001b[0;34m.\u001b[0m\u001b[0mquantum\u001b[0m\u001b[0;34m.\u001b[0m\u001b[0mqiskit\u001b[0m \u001b[0;32mimport\u001b[0m \u001b[0mAzureQuantumProvider\u001b[0m\u001b[0;34m\u001b[0m\u001b[0;34m\u001b[0m\u001b[0m\n",
            "\u001b[0;31mModuleNotFoundError\u001b[0m: No module named 'azure.quantum'"
          ]
        }
      ],
      "source": [
        "from azure.quantum import Workspace\n",
        "from qiskit import QuantumCircuit, QuantumRegister, ClassicalRegister, execute\n",
        "from qiskit.visualization import plot_histogram\n",
        "from qiskit.tools.monitor import job_monitor\n",
        "from azure.quantum.qiskit import AzureQuantumProvider\n",
        "from qiskit import assemble\n",
        "\n",
        "\n",
        "provider = AzureQuantumProvider (\n",
        "    resource_id = \"/subscriptions/b1d7f7f8-743f-458e-b3a0-3e09734d716d/resourceGroups/aq-hackathons/providers/Microsoft.Quantum/Workspaces/aq-hackathon-01\",\n",
        "    location = \"eastus\"\n",
        ")\n",
        "workspace = Workspace (\n",
        "    subscription_id = \"b1d7f7f8-743f-458e-b3a0-3e09734d716d\",\n",
        "    resource_group = \"aq-hackathons\",\n",
        "    name = \"aq-hackathon-01\",\n",
        "    location = \"eastus\"\n",
        ")\n",
        "\n",
        "### tic toc toe ###\n",
        "\n",
        "######################################\n",
        "#           #             #          #   \n",
        "#     6     #     7       #    8     # \n",
        "#           #             #          # \n",
        "######################################\n",
        "#           #             #          # \n",
        "#     3     #     4       #    5     # \n",
        "#           #             #          # \n",
        "######################################\n",
        "#           #             #          #  \n",
        "#     0     #     1       #     2    #   \n",
        "#           #             #          # \n",
        "######################################\n",
        "\n",
        "l_player_1 = [0] #list of qbits cell numbers inicialized to 0\n",
        "l_player_2 = [2,3] #list of qbits cell numbers inicialized to 1\n",
        "l_entangled = [(1,6),(7,8),(4,5)] #list of pairs of cells that need to be entangled to |01>+|10>\n",
        "\n",
        "#translate from lists to initial state matrix\n",
        "l_initial_ordered = [0,0,0,0,0,0,0,0,0]\n",
        "for inx in range(len(l_player_1)):\n",
        "    l_initial_ordered[l_player_1[inx]]=0\n",
        "for inx in range(len(l_player_2)):\n",
        "    l_initial_ordered[l_player_2[inx]]=1  \n",
        "entg_num = 1  \n",
        "for inx in range(len(l_entangled)):\n",
        "    l_initial_ordered[l_entangled[inx][0]]='e'+str(entg_num )   \n",
        "    l_initial_ordered[l_entangled[inx][1]]='e'+str(entg_num  )\n",
        "    entg_num +=1\n",
        "\n",
        "print('This the initial table state inputed by the user:\\n0 corresponds to player 1, 1 corresponds to player 2,\\n e1,e2,e3... corresponds to entangled tiles')\n",
        "print('-----\\n'+str(l_initial_ordered[6])+'|'+str(l_initial_ordered[7])+'|'+str(l_initial_ordered[8]))\n",
        "print('-----\\n'+str(l_initial_ordered[3])+'|'+str(l_initial_ordered[4])+'|'+str(l_initial_ordered[5]))\n",
        "print('-----\\n'+str(l_initial_ordered[0])+'|'+str(l_initial_ordered[1])+'|'+str(l_initial_ordered[2]))\n",
        "print('-----')\n",
        "\n",
        "\n",
        "# Create a Quantum Circuit acting on the q register\n",
        "circuit = QuantumCircuit(9, 9)\n",
        "circuit.name = \"Tic toc toe\"\n",
        "\n",
        "for inx  in range(len(l_player_2)):\n",
        "    circuit.x(l_player_2[inx])\n",
        "\n",
        "for inx in range(len(l_entangled)):\n",
        "    circuit.h(l_entangled[inx][0])\n",
        "    circuit.x(l_entangled[inx][1])\n",
        "    circuit.cx(l_entangled[inx][0],l_entangled[inx][1])\n",
        "\n",
        "\n",
        "\n",
        "\n",
        "#circuit.h(0)\n",
        "#circuit.cx(0, 1)\n",
        "#circuit.cx(1, 2)\n",
        "circuit.measure(list(range(9)), list(range(9)))\n",
        "\n",
        "# Print out the circuit\n",
        "circuit.draw()\n",
        "\n",
        "\n"
      ]
    },
    {
      "cell_type": "code",
      "execution_count": null,
      "metadata": {
        "jupyter": {
          "outputs_hidden": false,
          "source_hidden": false
        },
        "nteract": {
          "transient": {
            "deleting": false
          }
        }
      },
      "outputs": [
        {
          "name": "stdout",
          "output_type": "stream",
          "text": [
            "quantum tic 060b816e-8171-11ec-a940-00155d0077a0\n",
            "Job Status: job has successfully run\n",
            "{'100101110': 1}\n"
          ]
        }
      ],
      "source": [
        "#simulator_backend = provider.get_backend(\"ionq.simulator\")\n",
        "simulator_backend = provider.get_backend(\"ionq.qpu\")\n",
        "job = simulator_backend.run(circuit, shots=1)\n",
        "job_id = job.id()\n",
        "print(\"quantum tic\", job_id)\n",
        "job_monitor(job)\n",
        "result = job.result()\n",
        "print(result.get_counts())"
      ]
    },
    {
      "cell_type": "code",
      "execution_count": null,
      "metadata": {
        "jupyter": {
          "outputs_hidden": false,
          "source_hidden": false
        },
        "nteract": {
          "transient": {
            "deleting": false
          }
        }
      },
      "outputs": [
        {
          "ename": "NameError",
          "evalue": "name 'result' is not defined",
          "output_type": "error",
          "traceback": [
            "\u001b[0;31m---------------------------------------------------------------------------\u001b[0m",
            "\u001b[0;31mNameError\u001b[0m                                 Traceback (most recent call last)",
            "\u001b[0;32m/tmp/ipykernel_15029/693308616.py\u001b[0m in \u001b[0;36m<module>\u001b[0;34m\u001b[0m\n\u001b[0;32m----> 1\u001b[0;31m \u001b[0ml_final_ordered\u001b[0m\u001b[0;34m=\u001b[0m\u001b[0mlist\u001b[0m\u001b[0;34m(\u001b[0m\u001b[0mmap\u001b[0m\u001b[0;34m(\u001b[0m\u001b[0;32mlambda\u001b[0m \u001b[0mx\u001b[0m\u001b[0;34m:\u001b[0m \u001b[0mint\u001b[0m\u001b[0;34m(\u001b[0m\u001b[0mx\u001b[0m\u001b[0;34m)\u001b[0m\u001b[0;34m,\u001b[0m\u001b[0mlist\u001b[0m\u001b[0;34m(\u001b[0m\u001b[0mlist\u001b[0m\u001b[0;34m(\u001b[0m\u001b[0mresult\u001b[0m\u001b[0;34m.\u001b[0m\u001b[0mget_counts\u001b[0m\u001b[0;34m(\u001b[0m\u001b[0;34m)\u001b[0m\u001b[0;34m.\u001b[0m\u001b[0mkeys\u001b[0m\u001b[0;34m(\u001b[0m\u001b[0;34m)\u001b[0m\u001b[0;34m)\u001b[0m\u001b[0;34m[\u001b[0m\u001b[0;36m0\u001b[0m\u001b[0;34m]\u001b[0m\u001b[0;34m[\u001b[0m\u001b[0;34m:\u001b[0m\u001b[0;34m:\u001b[0m\u001b[0;34m-\u001b[0m\u001b[0;36m1\u001b[0m\u001b[0;34m]\u001b[0m\u001b[0;34m)\u001b[0m\u001b[0;34m)\u001b[0m\u001b[0;34m)\u001b[0m\u001b[0;34m\u001b[0m\u001b[0;34m\u001b[0m\u001b[0m\n\u001b[0m\u001b[1;32m      2\u001b[0m \u001b[0mprint\u001b[0m\u001b[0;34m(\u001b[0m\u001b[0ml_final_ordered\u001b[0m\u001b[0;34m)\u001b[0m\u001b[0;34m\u001b[0m\u001b[0;34m\u001b[0m\u001b[0m\n\u001b[1;32m      3\u001b[0m \u001b[0;31m#list with ordered cells\u001b[0m\u001b[0;34m\u001b[0m\u001b[0;34m\u001b[0m\u001b[0;34m\u001b[0m\u001b[0m\n\u001b[1;32m      4\u001b[0m \u001b[0mprint\u001b[0m\u001b[0;34m(\u001b[0m\u001b[0;34m'The colapsed state is:'\u001b[0m\u001b[0;34m)\u001b[0m\u001b[0;34m\u001b[0m\u001b[0;34m\u001b[0m\u001b[0m\n\u001b[1;32m      5\u001b[0m \u001b[0mprint\u001b[0m\u001b[0;34m(\u001b[0m\u001b[0;34m'-----\\n'\u001b[0m\u001b[0;34m+\u001b[0m\u001b[0mstr\u001b[0m\u001b[0;34m(\u001b[0m\u001b[0ml_final_ordered\u001b[0m\u001b[0;34m[\u001b[0m\u001b[0;36m6\u001b[0m\u001b[0;34m]\u001b[0m\u001b[0;34m)\u001b[0m\u001b[0;34m+\u001b[0m\u001b[0;34m'|'\u001b[0m\u001b[0;34m+\u001b[0m\u001b[0mstr\u001b[0m\u001b[0;34m(\u001b[0m\u001b[0ml_final_ordered\u001b[0m\u001b[0;34m[\u001b[0m\u001b[0;36m7\u001b[0m\u001b[0;34m]\u001b[0m\u001b[0;34m)\u001b[0m\u001b[0;34m+\u001b[0m\u001b[0;34m'|'\u001b[0m\u001b[0;34m+\u001b[0m\u001b[0mstr\u001b[0m\u001b[0;34m(\u001b[0m\u001b[0ml_final_ordered\u001b[0m\u001b[0;34m[\u001b[0m\u001b[0;36m8\u001b[0m\u001b[0;34m]\u001b[0m\u001b[0;34m)\u001b[0m\u001b[0;34m)\u001b[0m\u001b[0;34m\u001b[0m\u001b[0;34m\u001b[0m\u001b[0m\n",
            "\u001b[0;31mNameError\u001b[0m: name 'result' is not defined"
          ]
        }
      ],
      "source": [
        "l_final_ordered=list(map(lambda x: int(x),list(list(result.get_counts().keys())[0][::-1])))\n",
        "print(l_final_ordered)\n",
        "#list with ordered cells\n",
        "print('The colapsed state is:')\n",
        "print('-----\\n'+str(l_final_ordered[6])+'|'+str(l_final_ordered[7])+'|'+str(l_final_ordered[8]))\n",
        "print('-----\\n'+str(l_final_ordered[3])+'|'+str(l_final_ordered[4])+'|'+str(l_final_ordered[5]))\n",
        "print('-----\\n'+str(l_final_ordered[0])+'|'+str(l_final_ordered[1])+'|'+str(l_final_ordered[2]))\n",
        "print('-----')\n",
        "print('Player 2 won!')"
      ]
    }
  ],
  "metadata": {
    "kernel_info": {
      "name": "python3"
    },
    "kernelspec": {
      "display_name": "Python 3 (ipykernel)",
      "language": "python",
      "name": "python3"
    },
    "language_info": {
      "codemirror_mode": {
        "name": "ipython",
        "version": 3
      },
      "file_extension": ".py",
      "mimetype": "text/x-python",
      "name": "python",
      "nbconvert_exporter": "python",
      "pygments_lexer": "ipython3",
      "version": "3.8.5"
    },
    "nteract": {
      "version": "nteract-front-end@1.0.0"
    }
  },
  "nbformat": 4,
  "nbformat_minor": 0
}
